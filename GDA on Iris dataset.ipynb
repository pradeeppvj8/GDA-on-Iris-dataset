{
 "cells": [
  {
   "cell_type": "markdown",
   "metadata": {},
   "source": [
    "## Iris dataset binary classification using \"Gaussian determinant analysis\""
   ]
  },
  {
   "cell_type": "markdown",
   "metadata": {},
   "source": [
    "### Importing required libraries"
   ]
  },
  {
   "cell_type": "code",
   "execution_count": 141,
   "metadata": {},
   "outputs": [],
   "source": [
    "# We will use the iris data set\n",
    "\n",
    "from sklearn.datasets import load_iris\n",
    "from sklearn.decomposition import PCA\n",
    "from matplotlib import pyplot as plt\n",
    "from sklearn.model_selection import train_test_split\n",
    "from sklearn.metrics import accuracy_score,classification_report\n",
    "import numpy as np\n",
    "\n",
    "plt.style.use('ggplot')"
   ]
  },
  {
   "cell_type": "markdown",
   "metadata": {},
   "source": [
    "### Dataset preparation"
   ]
  },
  {
   "cell_type": "code",
   "execution_count": 142,
   "metadata": {},
   "outputs": [],
   "source": [
    "# Loading the data set\n",
    "\n",
    "iris_dataset = load_iris()\n",
    "\n",
    "# Separating the data set into features and target varibable\n",
    "\n",
    "X , Y = iris_dataset['data'] , iris_dataset['target']\n",
    "\n",
    "# Creating training and testing data ( 70:30 ratio )\n",
    "\n",
    "X_train,X_test,Y_train,Y_test = train_test_split(X,Y,train_size = 0.7,random_state = 12)"
   ]
  },
  {
   "cell_type": "code",
   "execution_count": 143,
   "metadata": {},
   "outputs": [
    {
     "data": {
      "text/plain": [
       "array([6.4, 2.8, 5.6, 2.2])"
      ]
     },
     "execution_count": 143,
     "metadata": {},
     "output_type": "execute_result"
    }
   ],
   "source": [
    "# Head of X_train\n",
    "\n",
    "X_train[5]"
   ]
  },
  {
   "cell_type": "code",
   "execution_count": 144,
   "metadata": {},
   "outputs": [
    {
     "data": {
      "text/plain": [
       "array([0, 0, 0, 2, 0])"
      ]
     },
     "execution_count": 144,
     "metadata": {},
     "output_type": "execute_result"
    }
   ],
   "source": [
    "# Head of Y_train\n",
    "\n",
    "Y_train[:5]"
   ]
  },
  {
   "cell_type": "code",
   "execution_count": 145,
   "metadata": {},
   "outputs": [],
   "source": [
    "# We currently have 3 classes in the data set . For now we will remove the 3rd class ( class 2 ) \n",
    "# to perform only binary classification\n",
    "\n",
    "# Indices of data whose label is 2\n",
    "\n",
    "indices = np.where(Y_train == 2)\n",
    "\n",
    "for index in sorted(indices,reverse=True):\n",
    "    # Remove all the training examples whose label is 2\n",
    "    X_train = np.delete(X_train,index,0)\n",
    "    Y_train = np.delete(Y_train,index,0)"
   ]
  },
  {
   "cell_type": "code",
   "execution_count": 146,
   "metadata": {},
   "outputs": [],
   "source": [
    "# Indices of data where label is 2 in test data\n",
    "\n",
    "test_indices = np.where(Y_test == 2)\n",
    "\n",
    "for test_index in sorted(test_indices,reverse=True):\n",
    "    # Removes all test samples whose label is 2\n",
    "    X_test = np.delete(X_test,test_index,0)\n",
    "    Y_test = np.delete(Y_test,test_index,0)"
   ]
  },
  {
   "cell_type": "code",
   "execution_count": 147,
   "metadata": {},
   "outputs": [
    {
     "data": {
      "text/plain": [
       "array([6.9, 3.1, 4.9, 1.5])"
      ]
     },
     "execution_count": 147,
     "metadata": {},
     "output_type": "execute_result"
    }
   ],
   "source": [
    "# Head of X_train\n",
    "\n",
    "X_train[5]"
   ]
  },
  {
   "cell_type": "code",
   "execution_count": 148,
   "metadata": {},
   "outputs": [
    {
     "data": {
      "text/plain": [
       "array([0, 0, 0, 0, 1])"
      ]
     },
     "execution_count": 148,
     "metadata": {},
     "output_type": "execute_result"
    }
   ],
   "source": [
    "# Head of Y_train\n",
    "\n",
    "Y_train[:5]"
   ]
  },
  {
   "cell_type": "markdown",
   "metadata": {},
   "source": [
    "### Performing PCA on the dataset"
   ]
  },
  {
   "cell_type": "code",
   "execution_count": 149,
   "metadata": {},
   "outputs": [],
   "source": [
    "# Performing PCA to retain only 2 features that give us the highest information\n",
    "\n",
    "pca = PCA(n_components=2)\n",
    "pca.fit(X_train)\n",
    "\n",
    "# Perform PCA on the training data\n",
    "\n",
    "X_train = pca.transform(X_train)\n",
    "\n",
    "# Perform PCA on the test data\n",
    "\n",
    "X_test = pca.transform(X_test)"
   ]
  },
  {
   "cell_type": "code",
   "execution_count": 150,
   "metadata": {},
   "outputs": [
    {
     "data": {
      "text/plain": [
       "array([-2.32077769, -0.72429655])"
      ]
     },
     "execution_count": 150,
     "metadata": {},
     "output_type": "execute_result"
    }
   ],
   "source": [
    "# Head of X_train\n",
    "\n",
    "X_train[5]"
   ]
  },
  {
   "cell_type": "code",
   "execution_count": 151,
   "metadata": {},
   "outputs": [
    {
     "data": {
      "text/plain": [
       "array([-1.55859424,  0.19838766])"
      ]
     },
     "execution_count": 151,
     "metadata": {},
     "output_type": "execute_result"
    }
   ],
   "source": [
    "# Head of X_test\n",
    "\n",
    "X_test[5]"
   ]
  },
  {
   "cell_type": "markdown",
   "metadata": {},
   "source": [
    "### Calculating the maximum likelihood estimates of all the required parameters"
   ]
  },
  {
   "attachments": {
    "image.png": {
     "image/png": "[encoded data removed]"
    }
   },
   "cell_type": "markdown",
   "metadata": {},
   "source": [
    "![image.png](attachment:image.png)"
   ]
  },
  {
   "cell_type": "code",
   "execution_count": 152,
   "metadata": {},
   "outputs": [
    {
     "data": {
      "text/plain": [
       "0.5454545454545454"
      ]
     },
     "execution_count": 152,
     "metadata": {},
     "output_type": "execute_result"
    }
   ],
   "source": [
    "# MLE of phi\n",
    "\n",
    "phi = np.mean(Y_train == 1)\n",
    "\n",
    "# Printing \n",
    "\n",
    "phi"
   ]
  },
  {
   "attachments": {
    "image.png": {
     "image/png": "[encoded data removed]"
    }
   },
   "cell_type": "markdown",
   "metadata": {},
   "source": [
    "![image.png](attachment:image.png)"
   ]
  },
  {
   "cell_type": "code",
   "execution_count": 153,
   "metadata": {},
   "outputs": [
    {
     "data": {
      "text/plain": [
       "array([ 1.76916256, -0.09078914])"
      ]
     },
     "execution_count": 153,
     "metadata": {},
     "output_type": "execute_result"
    }
   ],
   "source": [
    "# MLE of mu0\n",
    "\n",
    "zero_label_indices = (Y_train == 0)\n",
    "\n",
    "# Number of samples with label 0\n",
    "\n",
    "denominator = np.sum(zero_label_indices)\n",
    "\n",
    "# Summing up the 2 columns of X_train whose lable is 0\n",
    "\n",
    "numerator = np.sum(X_train[zero_label_indices],axis=0)\n",
    "mu_0 = numerator / denominator\n",
    "\n",
    "# Printing mu_0\n",
    "\n",
    "mu_0"
   ]
  },
  {
   "attachments": {
    "image.png": {
     "image/png": "[encoded data removed]"
    }
   },
   "cell_type": "markdown",
   "metadata": {},
   "source": [
    "![image.png](attachment:image.png)"
   ]
  },
  {
   "cell_type": "code",
   "execution_count": 154,
   "metadata": {},
   "outputs": [
    {
     "data": {
      "text/plain": [
       "array([-1.47430213,  0.07565762])"
      ]
     },
     "execution_count": 154,
     "metadata": {},
     "output_type": "execute_result"
    }
   ],
   "source": [
    "# MLE of mu1\n",
    "\n",
    "one_label_indices = (Y_train == 1)\n",
    "\n",
    "# Number of samples with label 1\n",
    "\n",
    "denominator = np.sum(one_label_indices)\n",
    "\n",
    "# Summing up the 2 columns of X_train whose lable is 1\n",
    "\n",
    "numerator = np.sum(X_train[one_label_indices],axis=0)\n",
    "mu_1 = numerator / denominator\n",
    "\n",
    "# Printing mu_1\n",
    "\n",
    "mu_1"
   ]
  },
  {
   "attachments": {
    "image.png": {
     "image/png": "[encoded data removed]"
    }
   },
   "cell_type": "markdown",
   "metadata": {},
   "source": [
    "![image.png](attachment:image.png)"
   ]
  },
  {
   "cell_type": "code",
   "execution_count": 155,
   "metadata": {},
   "outputs": [
    {
     "data": {
      "text/plain": [
       "array([[0.18106363, 0.13385062],\n",
       "       [0.13385062, 0.18676541]])"
      ]
     },
     "execution_count": 155,
     "metadata": {},
     "output_type": "execute_result"
    }
   ],
   "source": [
    "# MLE of s ( covariance matrix )\n",
    "\n",
    "# Array of the mu's\n",
    "\n",
    "mu = [mu_0,mu_1]\n",
    "\n",
    "# Initialize 'x_minus_mu' with 1st sample of the training data [ 0th index ]\n",
    "\n",
    "x_minus_mu = X_train[0] - mu[Y_train[0]]\n",
    "\n",
    "# To get the hidden 2nd dimension explicitly ( to avoid rank one arrays )\n",
    "\n",
    "x_minus_mu = x_minus_mu.reshape(*(x_minus_mu.shape),1)\n",
    "\n",
    "s = np.matmul(x_minus_mu,x_minus_mu.T)\n",
    "\n",
    "m = len(Y_train)\n",
    "\n",
    "for i in range(1,m):\n",
    "    x_minus_mu = X_train[i] - mu[Y_train[i]]\n",
    "    x_minus_mu = x_minus_mu.reshape(*(x_minus_mu.shape),1)\n",
    "    s += np.matmul(x_minus_mu,x_minus_mu.T)\n",
    "    \n",
    "s /= m\n",
    "\n",
    "\n",
    "# Printing s\n",
    "\n",
    "s"
   ]
  },
  {
   "cell_type": "markdown",
   "metadata": {},
   "source": [
    "### Performing predictions on test data"
   ]
  },
  {
   "cell_type": "markdown",
   "metadata": {},
   "source": [
    "#### Bayes rule"
   ]
  },
  {
   "attachments": {
    "image.png": {
     "image/png": "[encoded data removed]"
    }
   },
   "cell_type": "markdown",
   "metadata": {},
   "source": [
    "![image.png](attachment:image.png)"
   ]
  },
  {
   "cell_type": "markdown",
   "metadata": {},
   "source": [
    "#### Bayes rule used here"
   ]
  },
  {
   "attachments": {
    "image.png": {
     "image/png": "[encoded data removed]"
    }
   },
   "cell_type": "markdown",
   "metadata": {},
   "source": [
    "![image.png](attachment:image.png)"
   ]
  },
  {
   "cell_type": "markdown",
   "metadata": {},
   "source": [
    "#### Formula to calculate individual terms"
   ]
  },
  {
   "attachments": {
    "image.png": {
     "image/png": "[encoded data removed]"
    }
   },
   "cell_type": "markdown",
   "metadata": {},
   "source": [
    "![image.png](attachment:image.png)"
   ]
  },
  {
   "attachments": {
    "image.png": {
     "image/png": "[encoded data removed]"
    }
   },
   "cell_type": "markdown",
   "metadata": {},
   "source": [
    "![image.png](attachment:image.png)"
   ]
  },
  {
   "cell_type": "code",
   "execution_count": 156,
   "metadata": {},
   "outputs": [],
   "source": [
    "pi = 3.1415926535\n",
    "n = len(mu_0)\n",
    "\n",
    "# Common for both P(X/Y=0) & P(X/Y=1)\n",
    "\n",
    "denominator = (2 * pi) ** (n / 2) * np.sqrt(np.linalg.det(s))\n",
    "\n",
    "# Calculating the prior probability for class 0\n",
    "\n",
    "p_y0 = (phi ** 0) * ((1 - phi) ** (1 - 0))\n",
    "\n",
    "# Calculating the prior probability for class 1\n",
    "\n",
    "p_y1 = (phi ** 1) * ((1 - phi) ** (1 - 1))\n",
    "\n",
    "predictions = []\n",
    "\n",
    "for x in X_test:\n",
    "    x_minus_mu0 = x - mu_0\n",
    "    x_minus_mu0 =x_minus_mu0.reshape(*(x_minus_mu0.shape),1)\n",
    "    # Calculating the probability of the test sample given that it belongs to label 0 \n",
    "    p_x0 = 1 / denominator * np.exp(-0.5 * np.matmul(x_minus_mu0.T,np.matmul(np.linalg.inv(s),x_minus_mu0)))\n",
    "    # Convert single element array to single element\n",
    "    p_x0 = np.squeeze(p_x0)\n",
    "    # Calculating the probablity that this test sample belongs to label 0\n",
    "    p_yx0 = p_x0 * p_y0\n",
    "    \n",
    "    \n",
    "    x_minus_mu1 = x - mu_1\n",
    "    x_minus_mu1 = x_minus_mu1.reshape(*(x_minus_mu1.shape),1)\n",
    "    # Calculating the probability of the test sample given that it belongs to label 1\n",
    "    p_x1 = 1 / denominator * np.exp(-0.5 * np.matmul(x_minus_mu1.T,np.matmul(np.linalg.inv(s),x_minus_mu1)))\n",
    "    # Convert single element array to single element\n",
    "    p_x1 = np.squeeze(p_x1)\n",
    "    # Calculating the probablity that this test sample belongs to label 1\n",
    "    p_yx1 = p_x1 * p_y1\n",
    "    \n",
    "    \n",
    "    if p_yx1 >= p_yx0:\n",
    "        # The test sample belongs to label 1\n",
    "        predictions.append(1)\n",
    "    else :\n",
    "        # The test sample belongs to label 0\n",
    "        predictions.append(0)"
   ]
  },
  {
   "cell_type": "code",
   "execution_count": 157,
   "metadata": {},
   "outputs": [
    {
     "name": "stdout",
     "output_type": "stream",
     "text": [
      "[0, 0, 1, 0, 0, 1, 0, 0, 0, 1, 1, 0, 1, 0, 1, 1, 0, 1, 1, 0, 0, 0, 1, 0, 0, 1, 1, 0, 1, 1, 0, 0, 0, 0]\n"
     ]
    }
   ],
   "source": [
    "# Printing the predictions\n",
    "\n",
    "print(predictions)"
   ]
  },
  {
   "cell_type": "code",
   "execution_count": 158,
   "metadata": {},
   "outputs": [
    {
     "name": "stdout",
     "output_type": "stream",
     "text": [
      "[0 0 1 0 0 1 0 0 0 1 1 0 1 0 1 1 0 1 1 0 0 0 1 0 0 1 1 0 1 1 0 0 0 0]\n"
     ]
    }
   ],
   "source": [
    "# printing Y_test\n",
    "\n",
    "print(Y_test)"
   ]
  },
  {
   "cell_type": "markdown",
   "metadata": {},
   "source": [
    "### Evaluating the model"
   ]
  },
  {
   "cell_type": "code",
   "execution_count": 159,
   "metadata": {},
   "outputs": [
    {
     "name": "stdout",
     "output_type": "stream",
     "text": [
      "1.0\n"
     ]
    }
   ],
   "source": [
    "# Accurancy of the model\n",
    "\n",
    "print(accuracy_score(Y_test,predictions))"
   ]
  },
  {
   "cell_type": "code",
   "execution_count": 160,
   "metadata": {},
   "outputs": [
    {
     "name": "stdout",
     "output_type": "stream",
     "text": [
      "              precision    recall  f1-score   support\n",
      "\n",
      "           0       1.00      1.00      1.00        20\n",
      "           1       1.00      1.00      1.00        14\n",
      "\n",
      "    accuracy                           1.00        34\n",
      "   macro avg       1.00      1.00      1.00        34\n",
      "weighted avg       1.00      1.00      1.00        34\n",
      "\n"
     ]
    }
   ],
   "source": [
    "# Classification report of the model\n",
    "\n",
    "print(classification_report(Y_test,predictions))"
   ]
  },
  {
   "cell_type": "markdown",
   "metadata": {},
   "source": [
    "### Conclusion"
   ]
  },
  {
   "cell_type": "markdown",
   "metadata": {},
   "source": [
    "- We have got 100 % accuracy , precision , recall for the model on test data"
   ]
  },
  {
   "cell_type": "code",
   "execution_count": null,
   "metadata": {},
   "outputs": [],
   "source": []
  }
 ],
 "metadata": {
  "kernelspec": {
   "display_name": "Python 3",
   "language": "python",
   "name": "python3"
  },
  "language_info": {
   "codemirror_mode": {
    "name": "ipython",
    "version": 3
   },
   "file_extension": ".py",
   "mimetype": "text/x-python",
   "name": "python",
   "nbconvert_exporter": "python",
   "pygments_lexer": "ipython3",
   "version": "3.8.3"
  }
 },
 "nbformat": 4,
 "nbformat_minor": 4
}
